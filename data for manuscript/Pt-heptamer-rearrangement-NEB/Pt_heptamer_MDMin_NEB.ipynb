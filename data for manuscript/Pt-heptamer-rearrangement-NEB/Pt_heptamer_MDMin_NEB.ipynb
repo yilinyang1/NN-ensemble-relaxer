{
 "cells": [
  {
   "cell_type": "code",
   "execution_count": 1,
   "metadata": {},
   "outputs": [],
   "source": [
    "from ase.build import fcc111, add_adsorbate, bulk\n",
    "from ase.calculators.emt import EMT\n",
    "from ase.optimize import MDMin, BFGS\n",
    "from ase.constraints import FixAtoms\n",
    "from ase.db import connect\n",
    "from ase.visualize import view\n",
    "from ase.neb import NEB\n",
    "import numpy as np\n",
    "from ase.io.trajectory import Trajectory\n",
    "from matplotlib import pyplot as plt\n",
    "%matplotlib inline"
   ]
  },
  {
   "cell_type": "markdown",
   "metadata": {},
   "source": [
    "### Create intial and final configs"
   ]
  },
  {
   "cell_type": "code",
   "execution_count": 2,
   "metadata": {},
   "outputs": [],
   "source": [
    "Pt_slab = fcc111('Pt', size=(8, 7, 6), a=3.9)\n",
    "\n",
    "init_sub_ids = [[315, 316, 323], [316, 317, 324], [307, 308, 315], \n",
    "                [308, 309, 316], [309, 310, 317], [300, 301, 308], \n",
    "                [301, 302, 309]]\n",
    "\n",
    "Pt_slab_init = Pt_slab.copy()\n",
    "for ids in init_sub_ids:\n",
    "    xy_init = Pt_slab.positions[ids][:, :2].mean(axis=0)\n",
    "    add_adsorbate(Pt_slab_init, 'Pt', position=xy_init, height=1.5)\n",
    "const = FixAtoms([atom.index for atom in Pt_slab_init if atom.index < 168])\n",
    "Pt_slab_init.set_constraint(const)\n",
    "Pt_slab_init.set_calculator(EMT())\n",
    "Pt_slab_init.center(vacuum=10.0, axis=2)\n",
    "\n",
    "\n",
    "final_sub_ids = [[314, 315, 322], [315, 316, 323], [307, 308, 315], \n",
    "                 [308, 309, 316], [316, 317, 324], [300, 301, 308],  \n",
    "                 [301, 302, 309]]\n",
    "\n",
    "Pt_slab_final = Pt_slab.copy()\n",
    "for ids in final_sub_ids:\n",
    "    xy_init = Pt_slab.positions[ids][:, :2].mean(axis=0)\n",
    "    add_adsorbate(Pt_slab_final, 'Pt', position=xy_init, height=1.5)\n",
    "const = FixAtoms([atom.index for atom in Pt_slab_final if atom.index < 168])\n",
    "Pt_slab_final.set_constraint(const)\n",
    "Pt_slab_final.set_calculator(EMT())\n",
    "Pt_slab_final.center(vacuum=10.0, axis=2)\n",
    "\n",
    "view(Pt_slab_init)\n",
    "view(Pt_slab_final)"
   ]
  },
  {
   "cell_type": "code",
   "execution_count": 3,
   "metadata": {},
   "outputs": [
    {
     "data": {
      "text/plain": [
       "True"
      ]
     },
     "execution_count": 3,
     "metadata": {},
     "output_type": "execute_result"
    }
   ],
   "source": [
    "dyn = BFGS(Pt_slab_init, logfile='./datasets/BFGS-Pt-log-init.txt')\n",
    "dyn.run(fmax=0.05)\n",
    "\n",
    "dyn = BFGS(Pt_slab_final, logfile='./datasets/BFGS-Pt-log-final.txt')\n",
    "dyn.run(fmax=0.05)"
   ]
  },
  {
   "cell_type": "code",
   "execution_count": 4,
   "metadata": {
    "scrolled": true
   },
   "outputs": [
    {
     "data": {
      "text/plain": [
       "True"
      ]
     },
     "execution_count": 4,
     "metadata": {},
     "output_type": "execute_result"
    }
   ],
   "source": [
    "n_inter_images = 9\n",
    "\n",
    "# Make a band consisting of 11(2+9) images:\n",
    "images = [Pt_slab_init]\n",
    "images += [Pt_slab_init.copy() for i in range(n_inter_images)]\n",
    "images += [Pt_slab_final]\n",
    "\n",
    "for image in images[1:1+n_inter_images]:\n",
    "    image.set_calculator(EMT())\n",
    "\n",
    "neb = NEB(images, k=1, climb=True)\n",
    "neb.interpolate()\n",
    "\n",
    "# save the initial images to be used in NN ensemble method\n",
    "init_db = connect('./datasets/Pt-init-images.db')\n",
    "for image in images:\n",
    "    init_db.write(image)\n",
    "\n",
    "# Optimize:\n",
    "optimizer = MDMin(neb, trajectory='./datasets/Pt-MDMin.traj', logfile='./datasets/Pt-MDMin.txt')\n",
    "optimizer.run(fmax=0.05)"
   ]
  },
  {
   "cell_type": "code",
   "execution_count": null,
   "metadata": {},
   "outputs": [],
   "source": [
    "traj = Trajectory('./datasets/Pt-MDmin-EMT.traj', 'r')\n",
    "traj_nrgs = []\n",
    "traj_forces = []\n",
    "\n",
    "for entry in traj:\n",
    "    traj_nrgs.append(entry.get_potential_energy())\n",
    "    traj_forces.append(entry.get_forces())"
   ]
  },
  {
   "cell_type": "code",
   "execution_count": null,
   "metadata": {},
   "outputs": [],
   "source": [
    "all_nrgs = []\n",
    "all_forces = []\n",
    "all_images = []\n",
    "for i in range(66):\n",
    "    temp_nrgs = []\n",
    "    temp_forces = []\n",
    "    temp_images = []\n",
    "    for entry in list(traj)[(2+n_inter_images)*i:(2+n_inter_images)*(i+1)]:\n",
    "        temp_nrgs.append(entry.get_potential_energy())\n",
    "        temp_forces.append(entry.get_forces())\n",
    "        temp_images.append(entry)\n",
    "    all_nrgs.append(temp_nrgs)\n",
    "    all_forces.append(temp_forces)\n",
    "    all_images.append(temp_images)"
   ]
  },
  {
   "cell_type": "code",
   "execution_count": null,
   "metadata": {},
   "outputs": [],
   "source": [
    "\n",
    "\n",
    "fig = plt.figure()\n",
    "ax = fig.add_subplot(111)\n",
    "xs = np.arange(2+n_inter_images)\n",
    "for i in range(60, 66):\n",
    "    ax.plot(xs, all_nrgs[i], '-o')\n",
    "ax.set_xlabel('images from initial to final')\n",
    "ax.set_ylabel('EMT energy (eV)')\n",
    "ax.legend([f'iter {i}' for i in range(10, 14)])"
   ]
  },
  {
   "cell_type": "code",
   "execution_count": null,
   "metadata": {},
   "outputs": [],
   "source": []
  },
  {
   "cell_type": "code",
   "execution_count": null,
   "metadata": {},
   "outputs": [],
   "source": []
  },
  {
   "cell_type": "code",
   "execution_count": null,
   "metadata": {},
   "outputs": [],
   "source": [
    "traj = Trajectory('./datasets/MDMin-trajs/Pt-MDmin-after-step0.traj', 'r')\n",
    "nrgs = []\n",
    "forces = []\n",
    "\n",
    "for i in range(51):\n",
    "    temp_nrgs = []\n",
    "    temp_frs = []\n",
    "    for image in traj[i*11 : (i+1)*11]:\n",
    "        image.set_calculator(EMT())\n",
    "        temp_nrgs.append(image.get_potential_energy())\n",
    "        temp_frs.append(abs(image.get_forces()[168:, :]).max())\n",
    "    nrgs.append(temp_nrgs)\n",
    "    forces.append(temp_frs)\n",
    "\n"
   ]
  },
  {
   "cell_type": "code",
   "execution_count": null,
   "metadata": {},
   "outputs": [],
   "source": [
    "from ase.calculators.singlepoint import SinglePointCalculator as SPC\n",
    "\n",
    "new_db = connect('./datasets/Pt-second-images.db')\n",
    "new_PtAu_db = connect('./datasets/PtAu-second-image.db')\n",
    "\n",
    "for entry in new_db.select():\n",
    "    atoms = entry.toatoms()\n",
    "    energy = atoms.get_potential_energy()\n",
    "    forces = atoms.get_forces()\n",
    "    dummy = atoms.copy()\n",
    "    for j in range(-7, 0):\n",
    "        dummy[j].symbol = 'Au'\n",
    "    dummy.set_calculator(SPC(dummy, energy=energy, forces=forces))\n",
    "    new_PtAu_db.write(dummy)\n",
    "    "
   ]
  },
  {
   "cell_type": "code",
   "execution_count": null,
   "metadata": {},
   "outputs": [],
   "source": [
    "cov_db = connect('./datasets/Pt-converge-images.db')\n",
    "cov_nrgs = []\n",
    "cov_frs = []\n",
    "for entry in cov_db.select():\n",
    "    atoms = entry.toatoms()\n",
    "    atoms.set_calculator(EMT())\n",
    "    cov_nrgs.append(atoms.get_potential_energy())\n",
    "    cov_frs.append(abs(atoms.get_forces()[168:, :]).max())"
   ]
  },
  {
   "cell_type": "code",
   "execution_count": null,
   "metadata": {},
   "outputs": [],
   "source": [
    "fig = plt.figure()\n",
    "ax = fig.add_subplot(111)\n",
    "\n",
    "\n",
    "# ax.plot(range(11), forces[0], '-o')\n",
    "\n",
    "ax.plot(range(11), nrgs[40], '-o')\n",
    "ax.plot(range(11), nrgs[50], '-o')\n",
    "ax.plot(range(11), cov_nrgs, '-o')\n",
    "ax.legend(['40', '50', 'cov'])\n"
   ]
  }
 ],
 "metadata": {
  "kernelspec": {
   "display_name": "Python 3",
   "language": "python",
   "name": "python3"
  },
  "language_info": {
   "codemirror_mode": {
    "name": "ipython",
    "version": 3
   },
   "file_extension": ".py",
   "mimetype": "text/x-python",
   "name": "python",
   "nbconvert_exporter": "python",
   "pygments_lexer": "ipython3",
   "version": "3.6.8"
  }
 },
 "nbformat": 4,
 "nbformat_minor": 2
}
