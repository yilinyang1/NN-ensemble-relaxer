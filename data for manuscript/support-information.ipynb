{
 "cells": [
  {
   "cell_type": "markdown",
   "metadata": {},
   "source": [
    "# Support information\n",
    "\n",
    "There are three parts in this support information:\n",
    "    - Example to use NN_ensemble_relaxer for molecule geomoetry optimization\n",
    "    - Figures for configurations used as the example in the manuscript\n",
    "    - Code to access the datasets for reproducing the main figures in the manuscript"
   ]
  },
  {
   "cell_type": "markdown",
   "metadata": {},
   "source": [
    "## Example of NN_ensemble_relaxer utilization"
   ]
  },
  {
   "cell_type": "markdown",
   "metadata": {},
   "source": [
    "### Installation\n",
    "\n",
    "We first download the NN_ensemble_relaxer repo from the github and compile the required file. The module to calculate the symmetry function is modified based on the functions from SympleNN <sup>1</sup>.\n",
    "\n",
    "<code> git clone https://github.com/yilinyang1/NN_ensemble_relaxer.git </code>  \n",
    "<code> cd utils  </code>  \n",
    "<code> python libsymf_builder  </code>  "
   ]
  },
  {
   "cell_type": "markdown",
   "metadata": {},
   "source": [
    "### Instantiate NN_ensemble_relaxer and run the relaxation\n",
    "Assume we have a ASE database called db contains the configurations need to be optimized, we could just feed it into the NN_ensemble_relaxer to conduct the relaxation.\n",
    "\n",
    "```python\n",
    "from nn_optimize import Ensemble_Relaxer\n",
    "\n",
    "nn_params = {'layer_nodes': [40, 40], 'activations': ['tanh', 'tanh'], 'lr': 1}  # NN hyperparameters\n",
    "alpha = 2.0  # confidence coeffience used to control in what extend we trust the NN model\n",
    "\n",
    "# feed ASE database db, set groud truth calculator, specify the folder name to store intermediate models and data\n",
    "relaxer = Ensemble_Relaxer(db=db, calculator=EMT(), jobname='AuPd-nano-test', ensemble_size=10, \n",
    "                           alpha=alpha, nn_params=nn_params)\n",
    "\n",
    "# relaxer.run() returns a ase-db containing relaxed configurations\n",
    "relaxed_db = relaxer.run(fmax=0.05, steps=50)\n",
    "```\n",
    "\n",
    "Above is a basic example, more details could be found in the github repo."
   ]
  },
  {
   "cell_type": "markdown",
   "metadata": {},
   "source": [
    "## Figures for configurations used as the example in the manuscript\n",
    "In second part of the result section, we use 13 Acrolein/AgPd configurations as the example to show the advantage of multiple configurations during geometry optimization. Here, we provides the figures for these 13 configurations."
   ]
  },
  {
   "cell_type": "code",
   "execution_count": 1,
   "metadata": {},
   "outputs": [],
   "source": [
    "from ase.db import connect\n",
    "from ase.io import write\n",
    "from ase.visualize import view\n",
    "import matplotlib.image as mpimg\n",
    "from matplotlib import pyplot as plt\n",
    "\n",
    "data_path = './Acrolein-AgPd-single-multiple-configs/initial-configs.db'\n",
    "db = connect(data_path)\n",
    "i = 1\n",
    "for entry in db.select():\n",
    "    write(f'./Acrolein-AgPd-single-multiple-configs/images/image-{i}.png', entry.toatoms())\n",
    "    i += 1\n",
    "\n",
    "fig, axes = plt.subplots(3, 5, figsize=(12, 8))\n",
    "for i in range(15):\n",
    "    row, col = i // 5, i % 5\n",
    "    if i < 13:\n",
    "        tmp_image = mpimg.imread(f'./Acrolein-AgPd-single-multiple-configs/images/image-{i+1}.png')\n",
    "        axes[row][col].imshow(tmp_image)\n",
    "        axes[row][col].set_title(f'config-{i+1}')\n",
    "    axes[row][col].axis('off')\n",
    "fig.tight_layout()"
   ]
  },
  {
   "cell_type": "markdown",
   "metadata": {},
   "source": [
    "## Code to access the datasets for reproducing the main figures in the manuscript"
   ]
  },
  {
   "cell_type": "markdown",
   "metadata": {},
   "source": [
    "### Acceleration of the geometry optimiztion for Acrolein/AgPd"
   ]
  },
  {
   "cell_type": "code",
   "execution_count": null,
   "metadata": {},
   "outputs": [],
   "source": [
    "from ase.io.trajectory import Trajectory\n",
    "import numpy as np\n",
    "\n",
    "single_steps = []\n",
    "multi_steps = []\n",
    "warm_steps = []\n",
    "\n",
    "for i in range(13):\n",
    "    single_traj = Trajectory(f'./Acrolein-AgPd-single-multiple-configs/single-config-scratch-trajs/config-{i+1}.traj')\n",
    "    single_steps.append(len(single_traj))\n",
    "    multi_traj = Trajectory(f'./Acrolein-AgPd-single-multiple-configs/multi-config-scratch-trajs/config-{i+1}.traj')\n",
    "    multi_steps.append(len(multi_traj))\n",
    "    warm_traj = Trajectory(f'./Acrolein-AgPd-single-multiple-configs/multi-config-warmup-trajs/config-{i+1}.traj')\n",
    "    warm_steps.append(len(warm_traj))\n",
    "\n",
    "steps = [single_steps, multi_steps, warm_steps]\n",
    "labels = ['single', 'multiple', 'warm up']\n",
    "mean_labels = ['single mean', 'multiple mean', 'warm up mean']\n",
    "xs = range(1, 14)\n",
    "\n",
    "\n",
    "fig = plt.figure(figsize=(6, 4))\n",
    "ax = fig.add_subplot(111)\n",
    "for i in range(3):\n",
    "    ax.plot(xs, steps[i], '-o', label = labels[i])\n",
    "    means = [round(np.mean(steps[i]), 1)] * len(xs)\n",
    "    ax.plot(xs, means, '--', color=f'C{i}', label = mean_labels[i])\n",
    "    ax.text(1, means[0] + 0.4, str(means[0]))\n",
    "\n",
    "ax.legend(bbox_to_anchor=(0.31, 0.75), ncol=2)\n",
    "ax.set_xticks(range(1, 14))\n",
    "ax.set_yticks(range(6, 25, 2))\n",
    "ax.set_xlabel('configuration')\n",
    "ax.set_ylabel('# of DFT calls')\n",
    "fig.savefig('./single-multi-warmup.png', dpi=300)"
   ]
  },
  {
   "cell_type": "markdown",
   "metadata": {},
   "source": [
    "### Performance for various systems"
   ]
  },
  {
   "cell_type": "code",
   "execution_count": null,
   "metadata": {
    "scrolled": true
   },
   "outputs": [],
   "source": [
    "from matplotlib import pyplot as plt\n",
    "import pickle\n",
    "import numpy as np\n",
    "\n",
    "path = 'more-geometry-optimization-data'\n",
    "\n",
    "with open(f'./{path}/AuPd-slab-vasp-data-25.pkl', 'rb') as f:\n",
    "    slab_vasp_data = pickle.load(f)\n",
    "\n",
    "with open(f'./{path}/AuPd-slab-nn-data-25.pkl', 'rb') as f:\n",
    "    slab_nn_data = pickle.load(f)\n",
    "\n",
    "with open(f'./{path}/Acrolein-AgPd-vasp-data-100.pkl', 'rb') as f:\n",
    "    ads_vasp_data = pickle.load(f)\n",
    "\n",
    "with open(f'./{path}/Acrolein-AgPd-nn-data-scratch-100.pkl', 'rb') as f:\n",
    "    ads_nn_data = pickle.load(f)\n",
    "\n",
    "with open(f'./{path}/CO-AuPd-Ico-vasp-data-10.pkl', 'rb') as f:\n",
    "    nano_vasp_data = pickle.load(f)\n",
    "\n",
    "with open(f'./{path}/CO-AuPd-Ico-nn-data-10.pkl', 'rb') as f:\n",
    "    nano_nn_data = pickle.load(f)\n",
    "\n",
    "ads_nn_step_mean = np.mean(ads_nn_data['steps'])\n",
    "ads_vasp_step_mean = np.mean(ads_vasp_data['steps'])\n",
    "\n",
    "slab_nn_step_mean = np.mean(slab_nn_data['steps'])\n",
    "slab_vasp_step_mean = np.mean(slab_vasp_data['steps'])\n",
    "\n",
    "nano_nn_step_mean = np.mean(nano_nn_data['steps'])\n",
    "nano_vasp_step_mean = np.mean(nano_vasp_data['steps'])\n",
    "\n",
    "step_mean = np.array([slab_nn_step_mean, slab_vasp_step_mean, nano_nn_step_mean, \n",
    "                      nano_vasp_step_mean, ads_nn_step_mean, ads_vasp_step_mean])\n",
    "\n",
    "nn_steps = step_mean[[0, 2, 4]]\n",
    "vasp_steps = step_mean[[1, 3, 5]]\n",
    "nn_xs = [1, 2.5, 4]\n",
    "vasp_xs = [1.5, 3, 4.5]\n",
    "\n",
    "fig = plt.figure(figsize=(7, 5))\n",
    "ax = fig.add_subplot(111)\n",
    "ax.bar(nn_xs, nn_steps, width=0.5, label='NN AL')\n",
    "ax.bar(vasp_xs, vasp_steps, width=0.5, label='VASP QN')\n",
    "ax.set_ylabel('DFT calls')\n",
    "ax.set_yticks(range(0, 160, 20))\n",
    "ax.set_xticks([1.25, 2.75, 4.25])\n",
    "ax.set_xticklabels(['AuPd FCC111', 'CO/AuPd Icosahedron', 'Acrolein/AgPd FCC111'])\n",
    "ax.legend(loc='upper left')\n",
    "ax.text(0.95, 7.5, str(nn_steps[0]))\n",
    "ax.text(1.35, vasp_steps[0] + 1.1, str(vasp_steps[0]))\n",
    "ax.text(2.4, nn_steps[1] + 1.1, str(nn_steps[1]))\n",
    "ax.text(2.9, vasp_steps[1] + 1.1, str(vasp_steps[1]))\n",
    "ax.text(3.85, nn_steps[2] + 1.1, str(nn_steps[2]))\n",
    "ax.text(4.3, vasp_steps[2] + 1.1, str(vasp_steps[2]))\n",
    "fig.savefig('./slab-nano-ads.png', dpi=300)"
   ]
  },
  {
   "cell_type": "code",
   "execution_count": 6,
   "metadata": {},
   "outputs": [
    {
     "data": {
      "image/png": "[encoded data removed]",
      "text/plain": [
       "<Figure size 504x288 with 1 Axes>"
      ]
     },
     "metadata": {
      "needs_background": "light"
     },
     "output_type": "display_data"
    }
   ],
   "source": [
    "from ase.db import connect\n",
    "from matplotlib import pyplot as plt\n",
    "\n",
    "init_db = connect('./Acetylele-hydrogenation-NEB/Acetylene-hydro-initial-configs.db')\n",
    "vasp_db = connect('./Acetylele-hydrogenation-NEB/Acetylenen-hydro-vasp-cnvg.db')\n",
    "nn_db = connect('./Acetylele-hydrogenation-NEB/Acetylene-hydro-nn-cnvg.db')\n",
    "\n",
    "init_nrgs = [entry.energy for entry in init_db.select()]\n",
    "vasp_nrgs = [entry.energy for entry in vasp_db.select()]\n",
    "nn_nrgs = [entry.energy for entry in nn_db.select()]\n",
    "xs = range(len(vasp_nrgs))\n",
    "\n",
    "fig = plt.figure(figsize=(7, 4))\n",
    "ax = fig.add_subplot(111)\n",
    "ax.plot(xs, nn_nrgs, '-o')\n",
    "ax.plot(xs, vasp_nrgs, '-o')\n",
    "ax.set_xlabel('Reaction coordinate')\n",
    "ax.set_ylabel('energy (eV)')\n",
    "ax.legend(['NN ensemble', 'Vasp'])\n",
    "vasp_act = vasp_nrgs[5] - vasp_nrgs[0]\n",
    "nn_act = nn_nrgs[5] - nn_nrgs[0]\n",
    "ax.text(3.5, -204.6, 'Activation energy:')\n",
    "ax.text(3.5, -204.65, f'NN ensemble: {round(nn_act, 3)} eV')\n",
    "ax.text(3.5, -204.7, f'Vasp: {round(vasp_act, 3)} eV')\n",
    "fig.tight_layout()\n",
    "fig.savefig('./acetylene.png', dpi=300)"
   ]
  },
  {
   "cell_type": "markdown",
   "metadata": {},
   "source": [
    "### Reference\n",
    "\n",
    "[1] Kyuhyun Lee et al. “SIMPLE-NN: An efficient package for training and executing neural-network interatomic potentials”. In:Computer Physics Communications242 (2019), pp. 95–103. https://doi.org/10.1016/j.cpc.2019.04.014"
   ]
  }
 ],
 "metadata": {
  "kernelspec": {
   "display_name": "Python 3",
   "language": "python",
   "name": "python3"
  },
  "language_info": {
   "codemirror_mode": {
    "name": "ipython",
    "version": 3
   },
   "file_extension": ".py",
   "mimetype": "text/x-python",
   "name": "python",
   "nbconvert_exporter": "python",
   "pygments_lexer": "ipython3",
   "version": "3.6.8"
  }
 },
 "nbformat": 4,
 "nbformat_minor": 2
}
