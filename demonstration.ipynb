{
 "cells": [
  {
   "cell_type": "code",
   "execution_count": 1,
   "metadata": {
    "cell_id": "00000-bc97d965-489f-4b71-994a-c7323583e96a",
    "deepnote_cell_type": "code",
    "execution_millis": 1090,
    "execution_start": 1608255461455,
    "output_cleared": false,
    "source_hash": "6aab2ee9"
   },
   "outputs": [],
   "source": [
    "from ase.db import connect\n",
    "from ase.cluster import Icosahedron\n",
    "from ase.constraints import FixAtoms\n",
    "from ase.calculators.emt import EMT\n",
    "import numpy as np\n",
    "from nn_optimize import Ensemble_Relaxer\n",
    "from ase.optimize import BFGS\n",
    "from matplotlib import pyplot as plt\n",
    "import os\n",
    "from ase.calculators.singlepoint import SinglePointCalculator as SPC\n",
    "from ase.io.trajectory import Trajectory"
   ]
  },
  {
   "cell_type": "markdown",
   "metadata": {
    "cell_id": "00001-82c7f50d-c6f7-4d8f-86a3-9dd52a2315d7",
    "deepnote_cell_type": "markdown"
   },
   "source": [
    "### Create demo nanoparticles"
   ]
  },
  {
   "cell_type": "code",
   "execution_count": 2,
   "metadata": {
    "cell_id": "00002-f034bf07-5133-4ec5-9ae5-2bdf8345e3cc",
    "deepnote_cell_type": "code",
    "execution_millis": 1663,
    "execution_start": 1608255470799,
    "output_cleared": false,
    "source_hash": "c5e559e6"
   },
   "outputs": [],
   "source": [
    "db = connect('./AuPd-ico-to-relax-10.db')\n",
    "\n",
    "if db.count() == 0:\n",
    "    atoms = Icosahedron('Au', noshells=3, latticeconstant=4.0)\n",
    "    elements = ['Au', 'Pd']\n",
    "    nrgs = [] \n",
    "    configs = []\n",
    "\n",
    "    while len(nrgs) < 10:\n",
    "        symbols = np.random.choice(elements, size=len(atoms), replace=True)\n",
    "        dummy = atoms.copy()\n",
    "        dummy.center(vacuum=7.0)\n",
    "        dummy.set_chemical_symbols(symbols)\n",
    "        dummy.set_calculator(EMT())\n",
    "        cnst = FixAtoms(range(13))\n",
    "        dummy.set_constraint(cnst)\n",
    "        nrg = dummy.get_potential_energy()\n",
    "        if nrg not in nrgs:\n",
    "            nrgs.append(nrg)\n",
    "            configs.append(dummy)\n",
    "\n",
    "    for atoms in configs:\n",
    "        atoms.rattle(0.1)\n",
    "\n",
    "    for config in configs:\n",
    "        db.write(config)\n"
   ]
  },
  {
   "cell_type": "markdown",
   "metadata": {
    "cell_id": "00003-e6dc0807-34f9-4fa5-8995-67aedd18d4a1",
    "deepnote_cell_type": "markdown"
   },
   "source": [
    "### NN ensemble relaxer\n",
    " - Run NN relaxer like ASE optimzer\n",
    " - Need to provide a ASE calculator into the relaxer class, assume the relaxation job runs locally\n",
    " - The neural network training and atoms relxation run sequentially, since have no idea about users' job submit system\n",
    " - Preset hyperparameters to train NN and atoms relaxation, like learning rate, NN structure, relaxation max step"
   ]
  },
  {
   "cell_type": "code",
   "execution_count": 3,
   "metadata": {
    "cell_id": "00004-6b8771a8-1354-4b9e-8a16-1d965184e90c",
    "deepnote_cell_type": "code",
    "execution_millis": 2438780,
    "execution_start": 1608255534072,
    "output_cleared": false,
    "scrolled": false,
    "source_hash": "b431d4cc"
   },
   "outputs": [
    {
     "name": "stdout",
     "output_type": "stream",
     "text": [
      "Step 0: get groud truth data\n",
      "Step 0: groud truth data calculation done\n",
      "max force for each configuration: \n",
      "[2.49, 2.719, 2.677, 2.547, 2.321, 2.696, 2.576, 2.439, 2.435, 2.25]\n",
      "Step 0: start training\n"
     ]
    },
    {
     "ename": "KeyboardInterrupt",
     "evalue": "",
     "output_type": "error",
     "traceback": [
      "\u001b[1;31m---------------------------------------------------------------------------\u001b[0m",
      "\u001b[1;31mKeyboardInterrupt\u001b[0m                         Traceback (most recent call last)",
      "\u001b[1;32m<ipython-input-3-832b1067334b>\u001b[0m in \u001b[0;36m<module>\u001b[1;34m\u001b[0m\n\u001b[0;32m      5\u001b[0m \u001b[1;33m\u001b[0m\u001b[0m\n\u001b[0;32m      6\u001b[0m \u001b[1;31m# relaxer.run() returns a ase-db containing relaxed configurations\u001b[0m\u001b[1;33m\u001b[0m\u001b[1;33m\u001b[0m\u001b[1;33m\u001b[0m\u001b[0m\n\u001b[1;32m----> 7\u001b[1;33m \u001b[0mrelaxed_db\u001b[0m \u001b[1;33m=\u001b[0m \u001b[0mrelaxer\u001b[0m\u001b[1;33m.\u001b[0m\u001b[0mrun\u001b[0m\u001b[1;33m(\u001b[0m\u001b[0mfmax\u001b[0m\u001b[1;33m=\u001b[0m\u001b[1;36m0.05\u001b[0m\u001b[1;33m,\u001b[0m \u001b[0msteps\u001b[0m\u001b[1;33m=\u001b[0m\u001b[1;36m50\u001b[0m\u001b[1;33m)\u001b[0m\u001b[1;33m\u001b[0m\u001b[1;33m\u001b[0m\u001b[0m\n\u001b[0m",
      "\u001b[1;32m~\\Desktop\\NN_ensemble_relaxer\\nn_optimize.py\u001b[0m in \u001b[0;36mrun\u001b[1;34m(self, fmax, steps)\u001b[0m\n\u001b[0;32m    241\u001b[0m                 \u001b[0mself\u001b[0m\u001b[1;33m.\u001b[0m\u001b[0mn_step\u001b[0m \u001b[1;33m+=\u001b[0m \u001b[1;36m1\u001b[0m\u001b[1;33m\u001b[0m\u001b[1;33m\u001b[0m\u001b[0m\n\u001b[0;32m    242\u001b[0m                 \u001b[1;32mbreak\u001b[0m\u001b[1;33m\u001b[0m\u001b[1;33m\u001b[0m\u001b[0m\n\u001b[1;32m--> 243\u001b[1;33m             \u001b[0mself\u001b[0m\u001b[1;33m.\u001b[0m\u001b[0m__train_NN\u001b[0m\u001b[1;33m(\u001b[0m\u001b[1;33m)\u001b[0m\u001b[1;33m\u001b[0m\u001b[1;33m\u001b[0m\u001b[0m\n\u001b[0m\u001b[0;32m    244\u001b[0m             \u001b[0mself\u001b[0m\u001b[1;33m.\u001b[0m\u001b[0m__relax_NN\u001b[0m\u001b[1;33m(\u001b[0m\u001b[1;33m)\u001b[0m\u001b[1;33m\u001b[0m\u001b[1;33m\u001b[0m\u001b[0m\n\u001b[0;32m    245\u001b[0m             \u001b[0mself\u001b[0m\u001b[1;33m.\u001b[0m\u001b[0mn_step\u001b[0m \u001b[1;33m+=\u001b[0m \u001b[1;36m1\u001b[0m\u001b[1;33m\u001b[0m\u001b[1;33m\u001b[0m\u001b[0m\n",
      "\u001b[1;32m~\\Desktop\\NN_ensemble_relaxer\\nn_optimize.py\u001b[0m in \u001b[0;36m__train_NN\u001b[1;34m(self)\u001b[0m\n\u001b[0;32m    173\u001b[0m         \u001b[0mtrainer\u001b[0m \u001b[1;33m=\u001b[0m \u001b[0mEnsemble_Trainer\u001b[0m\u001b[1;33m(\u001b[0m\u001b[0mtrain_db_path\u001b[0m\u001b[1;33m,\u001b[0m \u001b[0mstep_model_path\u001b[0m\u001b[1;33m,\u001b[0m \u001b[0mself\u001b[0m\u001b[1;33m.\u001b[0m\u001b[0mfp_params\u001b[0m\u001b[1;33m,\u001b[0m \u001b[0mself\u001b[0m\u001b[1;33m.\u001b[0m\u001b[0mensemble_size\u001b[0m\u001b[1;33m,\u001b[0m \u001b[0mself\u001b[0m\u001b[1;33m.\u001b[0m\u001b[0mnn_params\u001b[0m\u001b[1;33m)\u001b[0m\u001b[1;33m\u001b[0m\u001b[1;33m\u001b[0m\u001b[0m\n\u001b[0;32m    174\u001b[0m         \u001b[0mtrainer\u001b[0m\u001b[1;33m.\u001b[0m\u001b[0mcalculate_fp\u001b[0m\u001b[1;33m(\u001b[0m\u001b[1;33m)\u001b[0m\u001b[1;33m\u001b[0m\u001b[1;33m\u001b[0m\u001b[0m\n\u001b[1;32m--> 175\u001b[1;33m         \u001b[0mtrainer\u001b[0m\u001b[1;33m.\u001b[0m\u001b[0mtrain_ensemble\u001b[0m\u001b[1;33m(\u001b[0m\u001b[1;33m)\u001b[0m\u001b[1;33m\u001b[0m\u001b[1;33m\u001b[0m\u001b[0m\n\u001b[0m\u001b[0;32m    176\u001b[0m         \u001b[0mprint\u001b[0m\u001b[1;33m(\u001b[0m\u001b[1;34mf'Step {self.n_step}: training done'\u001b[0m\u001b[1;33m)\u001b[0m\u001b[1;33m\u001b[0m\u001b[1;33m\u001b[0m\u001b[0m\n\u001b[0;32m    177\u001b[0m         \u001b[0mself\u001b[0m\u001b[1;33m.\u001b[0m\u001b[0mlog_file\u001b[0m\u001b[1;33m.\u001b[0m\u001b[0mwrite\u001b[0m\u001b[1;33m(\u001b[0m\u001b[1;34mf'Step {self.n_step}: training done\\n'\u001b[0m\u001b[1;33m)\u001b[0m\u001b[1;33m\u001b[0m\u001b[1;33m\u001b[0m\u001b[0m\n",
      "\u001b[1;32m~\\Desktop\\NN_ensemble_relaxer\\utils\\ensemble_trainer.py\u001b[0m in \u001b[0;36mtrain_ensemble\u001b[1;34m(self)\u001b[0m\n\u001b[0;32m     37\u001b[0m \u001b[1;33m\u001b[0m\u001b[0m\n\u001b[0;32m     38\u001b[0m         \u001b[1;32mfor\u001b[0m \u001b[0mm\u001b[0m \u001b[1;32min\u001b[0m \u001b[0mrange\u001b[0m\u001b[1;33m(\u001b[0m\u001b[0mself\u001b[0m\u001b[1;33m.\u001b[0m\u001b[0mensemble_size\u001b[0m\u001b[1;33m)\u001b[0m\u001b[1;33m:\u001b[0m\u001b[1;33m\u001b[0m\u001b[1;33m\u001b[0m\u001b[0m\n\u001b[1;32m---> 39\u001b[1;33m             \u001b[0mself\u001b[0m\u001b[1;33m.\u001b[0m\u001b[0mtrain_nn\u001b[0m\u001b[1;33m(\u001b[0m\u001b[0mm\u001b[0m\u001b[1;33m,\u001b[0m \u001b[0mtrain_data\u001b[0m\u001b[1;33m,\u001b[0m \u001b[0mvalid_data\u001b[0m\u001b[1;33m)\u001b[0m\u001b[1;33m\u001b[0m\u001b[1;33m\u001b[0m\u001b[0m\n\u001b[0m\u001b[0;32m     40\u001b[0m \u001b[1;33m\u001b[0m\u001b[0m\n\u001b[0;32m     41\u001b[0m         \u001b[1;32mreturn\u001b[0m\u001b[1;33m\u001b[0m\u001b[1;33m\u001b[0m\u001b[0m\n",
      "\u001b[1;32m~\\Desktop\\NN_ensemble_relaxer\\utils\\ensemble_trainer.py\u001b[0m in \u001b[0;36mtrain_nn\u001b[1;34m(self, m, train_data, valid_data)\u001b[0m\n\u001b[0;32m     53\u001b[0m                     layer_nodes=layer_nodes, activation=activations, lr=lr, scale_const=1.0)\n\u001b[0;32m     54\u001b[0m         agent.train(log_name=log_name, n_epoch=3000, interupt=True, val_interval=20, is_force=True, \n\u001b[1;32m---> 55\u001b[1;33m                     nrg_convg=2, force_convg=7, max_frs_convg=50, nrg_coef=1, force_coef=1)\n\u001b[0m\u001b[0;32m     56\u001b[0m         \u001b[1;32mreturn\u001b[0m\u001b[1;33m\u001b[0m\u001b[1;33m\u001b[0m\u001b[0m\n",
      "\u001b[1;32m~\\Desktop\\NN_ensemble_relaxer\\utils\\train_agent.py\u001b[0m in \u001b[0;36mtrain\u001b[1;34m(self, log_name, n_epoch, interupt, val_interval, is_force, nrg_convg, force_convg, max_frs_convg, nrg_coef, force_coef)\u001b[0m\n\u001b[0;32m    205\u001b[0m                                         \u001b[1;32mreturn\u001b[0m \u001b[0mtrain_loss\u001b[0m\u001b[1;33m\u001b[0m\u001b[1;33m\u001b[0m\u001b[0m\n\u001b[0;32m    206\u001b[0m \u001b[1;33m\u001b[0m\u001b[0m\n\u001b[1;32m--> 207\u001b[1;33m                                 \u001b[0mself\u001b[0m\u001b[1;33m.\u001b[0m\u001b[0moptimizer\u001b[0m\u001b[1;33m.\u001b[0m\u001b[0mstep\u001b[0m\u001b[1;33m(\u001b[0m\u001b[0mclosure\u001b[0m\u001b[1;33m)\u001b[0m\u001b[1;33m\u001b[0m\u001b[1;33m\u001b[0m\u001b[0m\n\u001b[0m\u001b[0;32m    208\u001b[0m \u001b[1;33m\u001b[0m\u001b[0m\n\u001b[0;32m    209\u001b[0m \u001b[1;33m\u001b[0m\u001b[0m\n",
      "\u001b[1;32mc:\\users\\yangy\\appdata\\local\\programs\\python\\python36\\lib\\site-packages\\torch\\autograd\\grad_mode.py\u001b[0m in \u001b[0;36mdecorate_context\u001b[1;34m(*args, **kwargs)\u001b[0m\n\u001b[0;32m     13\u001b[0m         \u001b[1;32mdef\u001b[0m \u001b[0mdecorate_context\u001b[0m\u001b[1;33m(\u001b[0m\u001b[1;33m*\u001b[0m\u001b[0margs\u001b[0m\u001b[1;33m,\u001b[0m \u001b[1;33m**\u001b[0m\u001b[0mkwargs\u001b[0m\u001b[1;33m)\u001b[0m\u001b[1;33m:\u001b[0m\u001b[1;33m\u001b[0m\u001b[1;33m\u001b[0m\u001b[0m\n\u001b[0;32m     14\u001b[0m             \u001b[1;32mwith\u001b[0m \u001b[0mself\u001b[0m\u001b[1;33m:\u001b[0m\u001b[1;33m\u001b[0m\u001b[1;33m\u001b[0m\u001b[0m\n\u001b[1;32m---> 15\u001b[1;33m                 \u001b[1;32mreturn\u001b[0m \u001b[0mfunc\u001b[0m\u001b[1;33m(\u001b[0m\u001b[1;33m*\u001b[0m\u001b[0margs\u001b[0m\u001b[1;33m,\u001b[0m \u001b[1;33m**\u001b[0m\u001b[0mkwargs\u001b[0m\u001b[1;33m)\u001b[0m\u001b[1;33m\u001b[0m\u001b[1;33m\u001b[0m\u001b[0m\n\u001b[0m\u001b[0;32m     16\u001b[0m         \u001b[1;32mreturn\u001b[0m \u001b[0mdecorate_context\u001b[0m\u001b[1;33m\u001b[0m\u001b[1;33m\u001b[0m\u001b[0m\n\u001b[0;32m     17\u001b[0m \u001b[1;33m\u001b[0m\u001b[0m\n",
      "\u001b[1;32mc:\\users\\yangy\\appdata\\local\\programs\\python\\python36\\lib\\site-packages\\torch\\optim\\lbfgs.py\u001b[0m in \u001b[0;36mstep\u001b[1;34m(self, closure)\u001b[0m\n\u001b[0;32m    309\u001b[0m \u001b[1;33m\u001b[0m\u001b[0m\n\u001b[0;32m    310\u001b[0m         \u001b[1;31m# evaluate initial f(x) and df/dx\u001b[0m\u001b[1;33m\u001b[0m\u001b[1;33m\u001b[0m\u001b[1;33m\u001b[0m\u001b[0m\n\u001b[1;32m--> 311\u001b[1;33m         \u001b[0morig_loss\u001b[0m \u001b[1;33m=\u001b[0m \u001b[0mclosure\u001b[0m\u001b[1;33m(\u001b[0m\u001b[1;33m)\u001b[0m\u001b[1;33m\u001b[0m\u001b[1;33m\u001b[0m\u001b[0m\n\u001b[0m\u001b[0;32m    312\u001b[0m         \u001b[0mloss\u001b[0m \u001b[1;33m=\u001b[0m \u001b[0mfloat\u001b[0m\u001b[1;33m(\u001b[0m\u001b[0morig_loss\u001b[0m\u001b[1;33m)\u001b[0m\u001b[1;33m\u001b[0m\u001b[1;33m\u001b[0m\u001b[0m\n\u001b[0;32m    313\u001b[0m         \u001b[0mcurrent_evals\u001b[0m \u001b[1;33m=\u001b[0m \u001b[1;36m1\u001b[0m\u001b[1;33m\u001b[0m\u001b[1;33m\u001b[0m\u001b[0m\n",
      "\u001b[1;32mc:\\users\\yangy\\appdata\\local\\programs\\python\\python36\\lib\\site-packages\\torch\\autograd\\grad_mode.py\u001b[0m in \u001b[0;36mdecorate_context\u001b[1;34m(*args, **kwargs)\u001b[0m\n\u001b[0;32m     13\u001b[0m         \u001b[1;32mdef\u001b[0m \u001b[0mdecorate_context\u001b[0m\u001b[1;33m(\u001b[0m\u001b[1;33m*\u001b[0m\u001b[0margs\u001b[0m\u001b[1;33m,\u001b[0m \u001b[1;33m**\u001b[0m\u001b[0mkwargs\u001b[0m\u001b[1;33m)\u001b[0m\u001b[1;33m:\u001b[0m\u001b[1;33m\u001b[0m\u001b[1;33m\u001b[0m\u001b[0m\n\u001b[0;32m     14\u001b[0m             \u001b[1;32mwith\u001b[0m \u001b[0mself\u001b[0m\u001b[1;33m:\u001b[0m\u001b[1;33m\u001b[0m\u001b[1;33m\u001b[0m\u001b[0m\n\u001b[1;32m---> 15\u001b[1;33m                 \u001b[1;32mreturn\u001b[0m \u001b[0mfunc\u001b[0m\u001b[1;33m(\u001b[0m\u001b[1;33m*\u001b[0m\u001b[0margs\u001b[0m\u001b[1;33m,\u001b[0m \u001b[1;33m**\u001b[0m\u001b[0mkwargs\u001b[0m\u001b[1;33m)\u001b[0m\u001b[1;33m\u001b[0m\u001b[1;33m\u001b[0m\u001b[0m\n\u001b[0m\u001b[0;32m     16\u001b[0m         \u001b[1;32mreturn\u001b[0m \u001b[0mdecorate_context\u001b[0m\u001b[1;33m\u001b[0m\u001b[1;33m\u001b[0m\u001b[0m\n\u001b[0;32m     17\u001b[0m \u001b[1;33m\u001b[0m\u001b[0m\n",
      "\u001b[1;32m~\\Desktop\\NN_ensemble_relaxer\\utils\\train_agent.py\u001b[0m in \u001b[0;36mclosure\u001b[1;34m()\u001b[0m\n\u001b[0;32m    196\u001b[0m \t\t\t\t\t\ttrain_b_dnrg_dfp = torch.autograd.grad(train_nrg_pre_cluster, batch_fp, grad_outputs=torch.ones_like(train_nrg_pre_cluster), \n\u001b[0;32m    197\u001b[0m \t\t\t\t\t\t\t\t\t\t\t\t\tcreate_graph=True, retain_graph=True)[0].reshape(len(s_idx), 1, -1)\n\u001b[1;32m--> 198\u001b[1;33m                                                 \u001b[0mtrain_force_pre\u001b[0m \u001b[1;33m=\u001b[0m \u001b[1;33m-\u001b[0m \u001b[0mtorch\u001b[0m\u001b[1;33m.\u001b[0m\u001b[0mbmm\u001b[0m\u001b[1;33m(\u001b[0m\u001b[0mtrain_b_dnrg_dfp\u001b[0m\u001b[1;33m,\u001b[0m \u001b[0mtrain_b_dfpdX\u001b[0m\u001b[1;33m[\u001b[0m\u001b[0ms_idx\u001b[0m\u001b[1;33m]\u001b[0m\u001b[1;33m)\u001b[0m\u001b[1;33m.\u001b[0m\u001b[0mreshape\u001b[0m\u001b[1;33m(\u001b[0m\u001b[0mlen\u001b[0m\u001b[1;33m(\u001b[0m\u001b[0ms_idx\u001b[0m\u001b[1;33m)\u001b[0m\u001b[1;33m,\u001b[0m \u001b[0mtrain_n_atoms\u001b[0m\u001b[1;33m,\u001b[0m \u001b[1;36m3\u001b[0m\u001b[1;33m)\u001b[0m\u001b[1;33m\u001b[0m\u001b[1;33m\u001b[0m\u001b[0m\n\u001b[0m\u001b[0;32m    199\u001b[0m                                                 \u001b[0mtrain_force_loss\u001b[0m \u001b[1;33m=\u001b[0m \u001b[0mmse\u001b[0m\u001b[1;33m(\u001b[0m\u001b[0mtrain_force_pre\u001b[0m\u001b[1;33m,\u001b[0m \u001b[0mtrain_force_label\u001b[0m\u001b[1;33m[\u001b[0m\u001b[0ms_idx\u001b[0m\u001b[1;33m]\u001b[0m\u001b[1;33m)\u001b[0m \u001b[1;33m*\u001b[0m \u001b[0mforce_coef\u001b[0m \u001b[1;31m# * (self.scale_const)**2\u001b[0m\u001b[1;33m\u001b[0m\u001b[1;33m\u001b[0m\u001b[0m\n\u001b[0;32m    200\u001b[0m                                                 \u001b[0mtrain_loss\u001b[0m \u001b[1;33m+=\u001b[0m \u001b[0mtrain_force_loss\u001b[0m\u001b[1;33m\u001b[0m\u001b[1;33m\u001b[0m\u001b[0m\n",
      "\u001b[1;31mKeyboardInterrupt\u001b[0m: "
     ]
    }
   ],
   "source": [
    "nn_params = {'layer_nodes': [40, 40], 'activations': ['tanh', 'tanh'], 'lr': 1}\n",
    "alpha = 2.0  # confidence coeffience, used to control in what extend we trust the NN model\n",
    "\n",
    "relaxer = Ensemble_Relaxer(db=db, calculator=EMT(), jobname='AuPd-nano-test', ensemble_size=10, alpha=alpha, nn_params=nn_params)\n",
    "\n",
    "# relaxer.run() returns a ase-db containing relaxed configurations\n",
    "relaxed_db = relaxer.run(fmax=0.05, steps=50)"
   ]
  },
  {
   "cell_type": "code",
   "execution_count": null,
   "metadata": {
    "cell_id": "00005-748b6f32-3f06-48c0-992f-a92c442bfacd",
    "deepnote_cell_type": "code",
    "execution_millis": 55,
    "execution_start": 1608258331319,
    "output_cleared": false,
    "source_hash": "17703463"
   },
   "outputs": [],
   "source": [
    "nn_max_fs = []\n",
    "for entry in relaxed_db.select():\n",
    "    atoms = entry.toatoms()\n",
    "    max_f = np.linalg.norm(atoms.get_forces(), axis=1).max()\n",
    "    nn_max_fs.append(round(max_f, 3))\n",
    "print(nn_max_fs)"
   ]
  },
  {
   "cell_type": "markdown",
   "metadata": {
    "cell_id": "00006-f3bf818f-3fbe-43c2-b451-bcf848f39423",
    "deepnote_cell_type": "markdown"
   },
   "source": [
    "### BFGS"
   ]
  },
  {
   "cell_type": "code",
   "execution_count": null,
   "metadata": {
    "cell_id": "00007-c0b97d8f-13ac-4bfd-8862-6ae6be9b1312",
    "deepnote_cell_type": "code",
    "execution_millis": 44269,
    "execution_start": 1608258339442,
    "output_cleared": false,
    "scrolled": false,
    "source_hash": "ddeb838"
   },
   "outputs": [],
   "source": [
    "\n",
    "if not os.path.isdir('AuPd-nano-test/AuPd-nano-BFGS'):\n",
    "    os.mkdir('AuPd-nano-test/AuPd-nano-BFGS')\n",
    "\n",
    "c = 0\n",
    "for entry in db.select():\n",
    "    atoms = entry.toatoms()\n",
    "    atoms.set_calculator(EMT())\n",
    "    c += 1\n",
    "    dyn = BFGS(atoms, trajectory=f'AuPd-nano-test/AuPd-nano-BFGS/config-{c}.traj')\n",
    "    dyn.run(0.05, steps=50)"
   ]
  },
  {
   "cell_type": "code",
   "execution_count": null,
   "metadata": {
    "cell_id": "00008-00d6570b-7c3e-49d0-9b00-558ba159dae1",
    "deepnote_cell_type": "code",
    "execution_millis": 1,
    "execution_start": 1608258390933,
    "output_cleared": false,
    "source_hash": "f4484b1a"
   },
   "outputs": [],
   "source": [
    "def retrive_nn_trajs(init_db, n_steps, fmax):\n",
    "    init_cnstrt = [entry.toatoms().constraints for entry in init_db.select()]\n",
    "    config_steps = [[] for _ in range(init_db.count())]\n",
    "    config_convgs = [False] * init_db.count()\n",
    "\n",
    "    for i in range(n_steps+1):\n",
    "        tmp_db = connect(os.path.join('AuPd-nano-test/relax_trajs', f'to-cal-step{i}-gt.db'))\n",
    "        tmp_configs = [entry.toatoms() for entry in tmp_db.select()]\n",
    "        tmp_frs = [atoms.get_forces() for atoms in tmp_configs]\n",
    "        tmp_nrgs = [atoms.get_potential_energy() for atoms in tmp_configs]\n",
    "        j = 0\n",
    "        for k, convg in enumerate(config_convgs):\n",
    "            if not convg:\n",
    "                f = tmp_frs[j]\n",
    "                for c in init_cnstrt[k]:\n",
    "                    c.adjust_forces(None, f)\n",
    "                mf = np.linalg.norm(f, axis=1).max()\n",
    "                if mf <= fmax:\n",
    "                    config_convgs[k] = True\n",
    "                dummy = tmp_configs[j].copy()\n",
    "                dummy.set_constraint(init_cnstrt[k])\n",
    "                dummy.set_calculator(SPC(dummy, energy=tmp_nrgs[j], forces=tmp_frs[j]))\n",
    "                config_steps[k].append(dummy)\n",
    "                j += 1\n",
    "\n",
    "    return config_steps\n",
    "\n",
    "\n",
    "def retrive_bfgs_trajs():\n",
    "    config_steps = []\n",
    "    for i in range(1, 11):\n",
    "        traj = Trajectory(f'AuPd-nano-test/AuPd-nano-BFGS/config-{i}.traj')\n",
    "        config_steps.append(list(traj))\n",
    "    return config_steps"
   ]
  },
  {
   "cell_type": "code",
   "execution_count": null,
   "metadata": {
    "cell_id": "00009-096350dc-d044-45f6-a888-088823ee8b94",
    "deepnote_cell_type": "code",
    "execution_millis": 701,
    "execution_start": 1608258393342,
    "output_cleared": false,
    "source_hash": "96bce81c"
   },
   "outputs": [],
   "source": [
    "nn_relax_trajs = retrive_nn_trajs(db, 3, 0.05)\n",
    "bfgs_relax_trajs = retrive_bfgs_trajs()"
   ]
  },
  {
   "cell_type": "code",
   "execution_count": null,
   "metadata": {
    "cell_id": "00010-8a33e45f-1105-418c-86b9-b25b0fa3c7d8",
    "deepnote_cell_type": "code",
    "execution_millis": 545,
    "execution_start": 1608258396771,
    "output_cleared": false,
    "source_hash": "52fb9aee"
   },
   "outputs": [],
   "source": [
    "nn_max_frs = []\n",
    "bfgs_max_frs = []\n",
    "for traj in nn_relax_trajs:\n",
    "    config_max_frs = [np.linalg.norm(atoms.get_forces(), axis=1).max() for atoms in traj]\n",
    "    nn_max_frs.append(config_max_frs)\n",
    "\n",
    "for traj in bfgs_relax_trajs:\n",
    "    config_max_frs = [np.linalg.norm(atoms.get_forces(), axis=1).max() for atoms in traj]\n",
    "    bfgs_max_frs.append(config_max_frs)\n",
    "\n",
    "fig = plt.figure()\n",
    "ax = fig.add_subplot(111)\n",
    "for max_frs in nn_max_frs:\n",
    "    s1 = ax.scatter(np.arange(len(max_frs)) + 1, max_frs, c='C0', s=7)\n",
    "for max_frs in bfgs_max_frs:\n",
    "    s2 = ax.scatter(np.arange(len(max_frs)) + 1, max_frs, c='C1', s=7)\n",
    "ax.legend([s1, s2], ['NN Ensemble', 'BFGS'])\n",
    "ax.set_xlabel('EMT Calls')\n",
    "ax.set_ylabel(r'Max force ($eV/\\AA$)')"
   ]
  }
 ],
 "metadata": {
  "deepnote_execution_queue": [],
  "deepnote_notebook_id": "ebacc955-d50e-4228-9a98-6b85a782e168",
  "kernelspec": {
   "display_name": "Python 3",
   "language": "python",
   "name": "python3"
  },
  "language_info": {
   "codemirror_mode": {
    "name": "ipython",
    "version": 3
   },
   "file_extension": ".py",
   "mimetype": "text/x-python",
   "name": "python",
   "nbconvert_exporter": "python",
   "pygments_lexer": "ipython3",
   "version": "3.6.8"
  }
 },
 "nbformat": 4,
 "nbformat_minor": 2
}
