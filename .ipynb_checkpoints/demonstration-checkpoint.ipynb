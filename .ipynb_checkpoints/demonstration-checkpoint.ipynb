{
 "cells": [
  {
   "cell_type": "code",
   "execution_count": 1,
   "metadata": {
    "cell_id": "00000-bc97d965-489f-4b71-994a-c7323583e96a",
    "deepnote_cell_type": "code",
    "execution_millis": 1090,
    "execution_start": 1608255461455,
    "output_cleared": false,
    "source_hash": "6aab2ee9"
   },
   "outputs": [],
   "source": [
    "from ase.db import connect\n",
    "from ase.cluster import Icosahedron\n",
    "from ase.constraints import FixAtoms\n",
    "from ase.calculators.emt import EMT\n",
    "import numpy as np\n",
    "from nn_optimize import Ensemble_Relaxer\n",
    "from ase.optimize import BFGS\n",
    "from matplotlib import pyplot as plt\n",
    "import os\n",
    "from ase.calculators.singlepoint import SinglePointCalculator as SPC\n",
    "from ase.io.trajectory import Trajectory"
   ]
  },
  {
   "cell_type": "markdown",
   "metadata": {
    "cell_id": "00001-82c7f50d-c6f7-4d8f-86a3-9dd52a2315d7",
    "deepnote_cell_type": "markdown"
   },
   "source": [
    "### Create demo nanoparticles"
   ]
  },
  {
   "cell_type": "code",
   "execution_count": 2,
   "metadata": {
    "cell_id": "00002-f034bf07-5133-4ec5-9ae5-2bdf8345e3cc",
    "deepnote_cell_type": "code",
    "execution_millis": 1663,
    "execution_start": 1608255470799,
    "output_cleared": false,
    "source_hash": "c5e559e6"
   },
   "outputs": [],
   "source": [
    "db = connect('./AuPd-ico-to-relax-10.db')\n",
    "\n",
    "if db.count() == 0:\n",
    "    atoms = Icosahedron('Au', noshells=3, latticeconstant=4.0)\n",
    "    elements = ['Au', 'Pd']\n",
    "    nrgs = [] \n",
    "    configs = []\n",
    "\n",
    "    while len(nrgs) < 10:\n",
    "        symbols = np.random.choice(elements, size=len(atoms), replace=True)\n",
    "        dummy = atoms.copy()\n",
    "        dummy.center(vacuum=7.0)\n",
    "        dummy.set_chemical_symbols(symbols)\n",
    "        dummy.set_calculator(EMT())\n",
    "        cnst = FixAtoms(range(13))\n",
    "        dummy.set_constraint(cnst)\n",
    "        nrg = dummy.get_potential_energy()\n",
    "        if nrg not in nrgs:\n",
    "            nrgs.append(nrg)\n",
    "            configs.append(dummy)\n",
    "\n",
    "    for atoms in configs:\n",
    "        atoms.rattle(0.1)\n",
    "\n",
    "    for config in configs:\n",
    "        db.write(config)\n"
   ]
  },
  {
   "cell_type": "markdown",
   "metadata": {
    "cell_id": "00003-e6dc0807-34f9-4fa5-8995-67aedd18d4a1",
    "deepnote_cell_type": "markdown"
   },
   "source": [
    "### NN ensemble relaxer\n",
    " - Run NN relaxer like ASE optimzer\n",
    " - Need to provide a ASE calculator into the relaxer class, assume the relaxation job runs locally\n",
    " - The neural network training and atoms relxation run sequentially, since have no idea about users' job submit system\n",
    " - Preset hyperparameters to train NN and atoms relaxation, like learning rate, NN structure, relaxation max step"
   ]
  },
  {
   "cell_type": "code",
   "execution_count": null,
   "metadata": {
    "cell_id": "00004-6b8771a8-1354-4b9e-8a16-1d965184e90c",
    "deepnote_cell_type": "code",
    "execution_millis": 2438780,
    "execution_start": 1608255534072,
    "output_cleared": false,
    "scrolled": false,
    "source_hash": "b431d4cc"
   },
   "outputs": [
    {
     "name": "stdout",
     "output_type": "stream",
     "text": [
      "Step 0: get groud truth data\n",
      "Step 0: groud truth data calculation done\n",
      "max force for each configuration: \n",
      "[2.49, 2.719, 2.677, 2.547, 2.321, 2.696, 2.576, 2.439, 2.435, 2.25]\n",
      "Step 0: start training\n"
     ]
    }
   ],
   "source": [
    "nn_params = {'layer_nodes': [40, 40], 'activations': ['tanh', 'tanh'], 'lr': 1}\n",
    "alpha = 2.0  # confidence coeffience, used to control in what extend we trust the NN model\n",
    "\n",
    "relaxer = Ensemble_Relaxer(db=db, calculator=EMT(), jobname='AuPd-nano-test', ensemble_size=10, alpha=alpha, nn_params=nn_params)\n",
    "\n",
    "# relaxer.run() returns a ase-db containing relaxed configurations\n",
    "relaxed_db = relaxer.run(fmax=0.05, steps=50)"
   ]
  },
  {
   "cell_type": "code",
   "execution_count": null,
   "metadata": {
    "cell_id": "00005-748b6f32-3f06-48c0-992f-a92c442bfacd",
    "deepnote_cell_type": "code",
    "execution_millis": 55,
    "execution_start": 1608258331319,
    "output_cleared": false,
    "source_hash": "17703463"
   },
   "outputs": [],
   "source": [
    "nn_max_fs = []\n",
    "for entry in relaxed_db.select():\n",
    "    atoms = entry.toatoms()\n",
    "    max_f = np.linalg.norm(atoms.get_forces(), axis=1).max()\n",
    "    nn_max_fs.append(round(max_f, 3))\n",
    "print(nn_max_fs)"
   ]
  },
  {
   "cell_type": "markdown",
   "metadata": {
    "cell_id": "00006-f3bf818f-3fbe-43c2-b451-bcf848f39423",
    "deepnote_cell_type": "markdown"
   },
   "source": [
    "### BFGS"
   ]
  },
  {
   "cell_type": "code",
   "execution_count": null,
   "metadata": {
    "cell_id": "00007-c0b97d8f-13ac-4bfd-8862-6ae6be9b1312",
    "deepnote_cell_type": "code",
    "execution_millis": 44269,
    "execution_start": 1608258339442,
    "output_cleared": false,
    "scrolled": false,
    "source_hash": "ddeb838"
   },
   "outputs": [],
   "source": [
    "\n",
    "if not os.path.isdir('AuPd-nano-test/AuPd-nano-BFGS'):\n",
    "    os.mkdir('AuPd-nano-test/AuPd-nano-BFGS')\n",
    "\n",
    "c = 0\n",
    "for entry in db.select():\n",
    "    atoms = entry.toatoms()\n",
    "    atoms.set_calculator(EMT())\n",
    "    c += 1\n",
    "    dyn = BFGS(atoms, trajectory=f'AuPd-nano-test/AuPd-nano-BFGS/config-{c}.traj')\n",
    "    dyn.run(0.05, steps=50)"
   ]
  },
  {
   "cell_type": "code",
   "execution_count": null,
   "metadata": {
    "cell_id": "00008-00d6570b-7c3e-49d0-9b00-558ba159dae1",
    "deepnote_cell_type": "code",
    "execution_millis": 1,
    "execution_start": 1608258390933,
    "output_cleared": false,
    "source_hash": "f4484b1a"
   },
   "outputs": [],
   "source": [
    "def retrive_nn_trajs(init_db, n_steps, fmax):\n",
    "    init_cnstrt = [entry.toatoms().constraints for entry in init_db.select()]\n",
    "    config_steps = [[] for _ in range(init_db.count())]\n",
    "    config_convgs = [False] * init_db.count()\n",
    "\n",
    "    for i in range(n_steps+1):\n",
    "        tmp_db = connect(os.path.join('AuPd-nano-test/relax_trajs', f'to-cal-step{i}-gt.db'))\n",
    "        tmp_configs = [entry.toatoms() for entry in tmp_db.select()]\n",
    "        tmp_frs = [atoms.get_forces() for atoms in tmp_configs]\n",
    "        tmp_nrgs = [atoms.get_potential_energy() for atoms in tmp_configs]\n",
    "        j = 0\n",
    "        for k, convg in enumerate(config_convgs):\n",
    "            if not convg:\n",
    "                f = tmp_frs[j]\n",
    "                for c in init_cnstrt[k]:\n",
    "                    c.adjust_forces(None, f)\n",
    "                mf = np.linalg.norm(f, axis=1).max()\n",
    "                if mf <= fmax:\n",
    "                    config_convgs[k] = True\n",
    "                dummy = tmp_configs[j].copy()\n",
    "                dummy.set_constraint(init_cnstrt[k])\n",
    "                dummy.set_calculator(SPC(dummy, energy=tmp_nrgs[j], forces=tmp_frs[j]))\n",
    "                config_steps[k].append(dummy)\n",
    "                j += 1\n",
    "\n",
    "    return config_steps\n",
    "\n",
    "\n",
    "def retrive_bfgs_trajs():\n",
    "    config_steps = []\n",
    "    for i in range(1, 11):\n",
    "        traj = Trajectory(f'AuPd-nano-test/AuPd-nano-BFGS/config-{i}.traj')\n",
    "        config_steps.append(list(traj))\n",
    "    return config_steps"
   ]
  },
  {
   "cell_type": "code",
   "execution_count": null,
   "metadata": {
    "cell_id": "00009-096350dc-d044-45f6-a888-088823ee8b94",
    "deepnote_cell_type": "code",
    "execution_millis": 701,
    "execution_start": 1608258393342,
    "output_cleared": false,
    "source_hash": "96bce81c"
   },
   "outputs": [],
   "source": [
    "nn_relax_trajs = retrive_nn_trajs(db, 3, 0.05)\n",
    "bfgs_relax_trajs = retrive_bfgs_trajs()"
   ]
  },
  {
   "cell_type": "code",
   "execution_count": null,
   "metadata": {
    "cell_id": "00010-8a33e45f-1105-418c-86b9-b25b0fa3c7d8",
    "deepnote_cell_type": "code",
    "execution_millis": 545,
    "execution_start": 1608258396771,
    "output_cleared": false,
    "source_hash": "52fb9aee"
   },
   "outputs": [],
   "source": [
    "nn_max_frs = []\n",
    "bfgs_max_frs = []\n",
    "for traj in nn_relax_trajs:\n",
    "    config_max_frs = [np.linalg.norm(atoms.get_forces(), axis=1).max() for atoms in traj]\n",
    "    nn_max_frs.append(config_max_frs)\n",
    "\n",
    "for traj in bfgs_relax_trajs:\n",
    "    config_max_frs = [np.linalg.norm(atoms.get_forces(), axis=1).max() for atoms in traj]\n",
    "    bfgs_max_frs.append(config_max_frs)\n",
    "\n",
    "fig = plt.figure()\n",
    "ax = fig.add_subplot(111)\n",
    "for max_frs in nn_max_frs:\n",
    "    s1 = ax.scatter(np.arange(len(max_frs)) + 1, max_frs, c='C0', s=7)\n",
    "for max_frs in bfgs_max_frs:\n",
    "    s2 = ax.scatter(np.arange(len(max_frs)) + 1, max_frs, c='C1', s=7)\n",
    "ax.legend([s1, s2], ['NN Ensemble', 'BFGS'])\n",
    "ax.set_xlabel('EMT Calls')\n",
    "ax.set_ylabel(r'Max force ($eV/\\AA$)')"
   ]
  }
 ],
 "metadata": {
  "deepnote_execution_queue": [],
  "deepnote_notebook_id": "ebacc955-d50e-4228-9a98-6b85a782e168",
  "kernelspec": {
   "display_name": "Python 3",
   "language": "python",
   "name": "python3"
  },
  "language_info": {
   "codemirror_mode": {
    "name": "ipython",
    "version": 3
   },
   "file_extension": ".py",
   "mimetype": "text/x-python",
   "name": "python",
   "nbconvert_exporter": "python",
   "pygments_lexer": "ipython3",
   "version": "3.6.8"
  }
 },
 "nbformat": 4,
 "nbformat_minor": 2
}
